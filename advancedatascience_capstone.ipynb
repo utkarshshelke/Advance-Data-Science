{
  "nbformat": 4,
  "nbformat_minor": 0,
  "metadata": {
    "colab": {
      "provenance": []
    },
    "kernelspec": {
      "name": "python3",
      "display_name": "Python 3"
    },
    "language_info": {
      "name": "python"
    }
  },
  "cells": [
    {
      "cell_type": "code",
      "execution_count": 1,
      "metadata": {
        "colab": {
          "base_uri": "https://localhost:8080/"
        },
        "id": "TD7-quvw9wpX",
        "outputId": "dcd6d4c4-1a79-4c80-c104-4592ca5f7826"
      },
      "outputs": [
        {
          "output_type": "stream",
          "name": "stdout",
          "text": [
            "--2024-02-26 00:07:01--  http://www.iro.umontreal.ca/~lisa/datasets/profiledata_06-May-2005.tar.gz\n",
            "Resolving www.iro.umontreal.ca (www.iro.umontreal.ca)... 132.204.26.36\n",
            "Connecting to www.iro.umontreal.ca (www.iro.umontreal.ca)|132.204.26.36|:80... connected.\n",
            "HTTP request sent, awaiting response... 200 OK\n",
            "Length: 135880312 (130M) [application/x-gzip]\n",
            "Saving to: ‘profiledata_06-May-2005.tar.gz’\n",
            "\n",
            "profiledata_06-May- 100%[===================>] 129.58M  81.9MB/s    in 1.6s    \n",
            "\n",
            "2024-02-26 00:07:03 (81.9 MB/s) - ‘profiledata_06-May-2005.tar.gz’ saved [135880312/135880312]\n",
            "\n",
            "profiledata_06-May-2005/\n",
            "profiledata_06-May-2005/artist_data.txt\n",
            "profiledata_06-May-2005/README.txt\n",
            "profiledata_06-May-2005/user_artist_data.txt\n",
            "profiledata_06-May-2005/artist_alias.txt\n"
          ]
        }
      ],
      "source": [
        "!set -e\n",
        "\n",
        "!mkdir -p dataset\n",
        "!cd dataset\n",
        "!wget http://www.iro.umontreal.ca/~lisa/datasets/profiledata_06-May-2005.tar.gz\n",
        "!tar xvf profiledata_06-May-2005.tar.gz\n",
        "!mv profiledata_06-May-2005/* dataset/\n",
        "!rm -r profiledata_06-May-2005"
      ]
    },
    {
      "cell_type": "code",
      "source": [
        "!cat dataset/user_artist_data.txt | head"
      ],
      "metadata": {
        "colab": {
          "base_uri": "https://localhost:8080/"
        },
        "id": "mLGNxnVb94Ss",
        "outputId": "b2aef3a8-85bb-473b-99d1-7e3fcdb94fb2"
      },
      "execution_count": 2,
      "outputs": [
        {
          "output_type": "stream",
          "name": "stdout",
          "text": [
            "1000002 1 55\n",
            "1000002 1000006 33\n",
            "1000002 1000007 8\n",
            "1000002 1000009 144\n",
            "1000002 1000010 314\n",
            "1000002 1000013 8\n",
            "1000002 1000014 42\n",
            "1000002 1000017 69\n",
            "1000002 1000024 329\n",
            "1000002 1000025 1\n"
          ]
        }
      ]
    },
    {
      "cell_type": "code",
      "source": [
        "!apt-get update # Update apt-get repository.\n",
        "!apt-get install openjdk-8-jdk-headless -qq > /dev/null # Install Java.\n",
        "!wget -q http://archive.apache.org/dist/spark/spark-3.1.1/spark-3.1.1-bin-hadoop3.2.tgz # Download Apache Sparks.\n",
        "!tar xf spark-3.1.1-bin-hadoop3.2.tgz # Unzip the tgz file.\n",
        "!pip install -q findspark # Install findspark. Adds PySpark to the System path during runtime.\n",
        "\n",
        "# Set environment variables\n",
        "import os\n",
        "os.environ[\"JAVA_HOME\"] = \"/usr/lib/jvm/java-8-openjdk-amd64\"\n",
        "os.environ[\"SPARK_HOME\"] = \"/content/spark-3.1.1-bin-hadoop3.2\"\n",
        "\n",
        "!ls\n",
        "\n",
        "# Initialize findspark\n",
        "import findspark\n",
        "findspark.init()\n",
        "\n"
      ],
      "metadata": {
        "colab": {
          "base_uri": "https://localhost:8080/"
        },
        "id": "yKoPrJoe-V21",
        "outputId": "f159e4fc-0c66-40b6-bc71-61c8507716a7"
      },
      "execution_count": 3,
      "outputs": [
        {
          "output_type": "stream",
          "name": "stdout",
          "text": [
            "\r0% [Working]\r            \rGet:1 https://cloud.r-project.org/bin/linux/ubuntu jammy-cran40/ InRelease [3,626 B]\n",
            "\r0% [Waiting for headers] [Waiting for headers] [1 InRelease 3,626 B/3,626 B 100%] [Connected to ppa.\r0% [Waiting for headers] [Waiting for headers] [Connected to ppa.launchpadcontent.net (185.125.190.8\r                                                                                                    \rHit:2 http://archive.ubuntu.com/ubuntu jammy InRelease\n",
            "\r                                                                                                    \rGet:3 https://developer.download.nvidia.com/compute/cuda/repos/ubuntu2204/x86_64  InRelease [1,581 B]\n",
            "Get:4 http://archive.ubuntu.com/ubuntu jammy-updates InRelease [119 kB]\n",
            "Get:5 http://security.ubuntu.com/ubuntu jammy-security InRelease [110 kB]\n",
            "Hit:6 http://archive.ubuntu.com/ubuntu jammy-backports InRelease\n",
            "Hit:7 https://ppa.launchpadcontent.net/c2d4u.team/c2d4u4.0+/ubuntu jammy InRelease\n",
            "Get:8 https://ppa.launchpadcontent.net/deadsnakes/ppa/ubuntu jammy InRelease [18.1 kB]\n",
            "Hit:9 https://ppa.launchpadcontent.net/graphics-drivers/ppa/ubuntu jammy InRelease\n",
            "Hit:10 https://ppa.launchpadcontent.net/ubuntugis/ppa/ubuntu jammy InRelease\n",
            "Get:11 https://developer.download.nvidia.com/compute/cuda/repos/ubuntu2204/x86_64  Packages [713 kB]\n",
            "Get:12 http://archive.ubuntu.com/ubuntu jammy-updates/main amd64 Packages [1,786 kB]\n",
            "Get:13 http://archive.ubuntu.com/ubuntu jammy-updates/universe amd64 Packages [1,343 kB]\n",
            "Get:14 http://archive.ubuntu.com/ubuntu jammy-updates/restricted amd64 Packages [1,907 kB]\n",
            "Get:15 http://security.ubuntu.com/ubuntu jammy-security/main amd64 Packages [1,502 kB]\n",
            "Get:16 https://ppa.launchpadcontent.net/deadsnakes/ppa/ubuntu jammy/main amd64 Packages [28.1 kB]\n",
            "Get:17 http://security.ubuntu.com/ubuntu jammy-security/restricted amd64 Packages [1,859 kB]\n",
            "Fetched 9,391 kB in 7s (1,369 kB/s)\n",
            "Reading package lists... Done\n",
            "dataset\t\t\t\tsample_data\t\t   spark-3.1.1-bin-hadoop3.2.tgz\n",
            "profiledata_06-May-2005.tar.gz\tspark-3.1.1-bin-hadoop3.2\n"
          ]
        }
      ]
    },
    {
      "cell_type": "code",
      "source": [
        "import os\n",
        "import sys\n",
        "import re\n",
        "import random\n",
        "from pyspark import SparkContext\n",
        "from pyspark.sql import SQLContext\n",
        "from pyspark.sql.types import *\n",
        "from pyspark.sql import Row\n",
        "from pyspark.sql.functions import *\n",
        "\n",
        "%matplotlib inline\n",
        "import matplotlib.pyplot as plt\n",
        "import pandas as pd\n",
        "import numpy as np\n",
        "from time import time\n",
        "\n",
        "sc = SparkContext()\n",
        "sqlContext = SQLContext(sc)\n",
        "# Base directory path\n",
        "base = \"dataset/\""
      ],
      "metadata": {
        "id": "bPOlioAx9-uB"
      },
      "execution_count": 4,
      "outputs": []
    },
    {
      "cell_type": "code",
      "source": [
        "userArtistDataSchema = StructType([ \\\n",
        "    StructField(\"userID\", LongType(), True), \\\n",
        "    StructField(\"artistID\", LongType(), True), \\\n",
        "    StructField(\"playCount\", IntegerType(), True)])\n",
        "\n",
        "userArtistDF = sqlContext.read \\\n",
        "    .format('com.databricks.spark.csv') \\\n",
        "    .options(header='false', delimiter=' ') \\\n",
        "    .load(base + \"user_artist_data.txt\", schema = userArtistDataSchema) \\\n",
        "    .cache()\n",
        "\n",
        "# we can cache an Dataframe to avoid computing it from the beginning everytime it is accessed.\n",
        "userArtistDF.cache()\n",
        "\n",
        "userArtistDF.show()"
      ],
      "metadata": {
        "colab": {
          "base_uri": "https://localhost:8080/"
        },
        "id": "-ktVTnDb_I4N",
        "outputId": "1f94326e-1b60-408a-d5c1-5005db57421d"
      },
      "execution_count": 5,
      "outputs": [
        {
          "output_type": "stream",
          "name": "stdout",
          "text": [
            "+-------+--------+---------+\n",
            "| userID|artistID|playCount|\n",
            "+-------+--------+---------+\n",
            "|1000002|       1|       55|\n",
            "|1000002| 1000006|       33|\n",
            "|1000002| 1000007|        8|\n",
            "|1000002| 1000009|      144|\n",
            "|1000002| 1000010|      314|\n",
            "|1000002| 1000013|        8|\n",
            "|1000002| 1000014|       42|\n",
            "|1000002| 1000017|       69|\n",
            "|1000002| 1000024|      329|\n",
            "|1000002| 1000025|        1|\n",
            "|1000002| 1000028|       17|\n",
            "|1000002| 1000031|       47|\n",
            "|1000002| 1000033|       15|\n",
            "|1000002| 1000042|        1|\n",
            "|1000002| 1000045|        1|\n",
            "|1000002| 1000054|        2|\n",
            "|1000002| 1000055|       25|\n",
            "|1000002| 1000056|        4|\n",
            "|1000002| 1000059|        2|\n",
            "|1000002| 1000062|       71|\n",
            "+-------+--------+---------+\n",
            "only showing top 20 rows\n",
            "\n"
          ]
        }
      ]
    },
    {
      "cell_type": "code",
      "source": [
        "allusers = userArtistDF.count()\n",
        "print(\"All rows in database: \", allusers )\n",
        "uniqueUsers = userArtistDF.select('userID').distinct().count()\n",
        "print(\"Total no. of distinct users: \", uniqueUsers)"
      ],
      "metadata": {
        "colab": {
          "base_uri": "https://localhost:8080/"
        },
        "id": "nQSlBrHYA7EH",
        "outputId": "e889a744-8082-4f35-9ad8-badecef25555"
      },
      "execution_count": 6,
      "outputs": [
        {
          "output_type": "stream",
          "name": "stdout",
          "text": [
            "All rows in database:  24296858\n",
            "Total no. of distinct users:  148111\n"
          ]
        }
      ]
    },
    {
      "cell_type": "code",
      "source": [
        "uniqueArtists = userArtistDF.select('artistID').distinct().count()\n",
        "print(\"Total no. of artists: \", uniqueArtists)"
      ],
      "metadata": {
        "colab": {
          "base_uri": "https://localhost:8080/"
        },
        "id": "h7BJr-QfBQIW",
        "outputId": "294d68dc-5e45-4b73-e756-cc216ad70367"
      },
      "execution_count": 7,
      "outputs": [
        {
          "output_type": "stream",
          "name": "stdout",
          "text": [
            "Total no. of artists:  1631028\n"
          ]
        }
      ]
    },
    {
      "cell_type": "code",
      "source": [
        "MAX_VALUE = 2147483647\n",
        "#showing the IDs which are invalid\n",
        "userArtistDF[(userArtistDF.userID.cast(\"int\") < 0)].show()\n",
        "userArtistDF[(userArtistDF.userID.cast(\"int\") > MAX_VALUE)].show()\n",
        "#As the result, we don't see any invalid userID\n",
        "#Otherwise, we can use function describe() of Spark MLlib to show the statistics\n",
        "userArtistDF.select(\"userID\").describe().show()"
      ],
      "metadata": {
        "colab": {
          "base_uri": "https://localhost:8080/"
        },
        "id": "Gx6BDGBRBdMs",
        "outputId": "13a9c85b-07d8-49b1-b7b0-60dce8806bf2"
      },
      "execution_count": 8,
      "outputs": [
        {
          "output_type": "stream",
          "name": "stdout",
          "text": [
            "+------+--------+---------+\n",
            "|userID|artistID|playCount|\n",
            "+------+--------+---------+\n",
            "+------+--------+---------+\n",
            "\n",
            "+------+--------+---------+\n",
            "|userID|artistID|playCount|\n",
            "+------+--------+---------+\n",
            "+------+--------+---------+\n",
            "\n",
            "+-------+------------------+\n",
            "|summary|            userID|\n",
            "+-------+------------------+\n",
            "|  count|          24296858|\n",
            "|   mean|1947573.2653533637|\n",
            "| stddev| 496000.5551820078|\n",
            "|    min|                90|\n",
            "|    max|           2443548|\n",
            "+-------+------------------+\n",
            "\n"
          ]
        }
      ]
    },
    {
      "cell_type": "code",
      "source": [
        "#Finding min and max of artistID using function groupby() and max|min()\n",
        "max_artistID = userArtistDF.groupby().max('artistID').collect()[0].asDict()['max(artistID)']\n",
        "print('Maximum value of artistID: ',max_artistID)\n",
        "min_artistID = userArtistDF.groupby().min('artistID').collect()[0].asDict()['min(artistID)']\n",
        "print('Minimum value of artistID: ',min_artistID)\n",
        "\n",
        "#Again, we can use describe() for short\n",
        "userArtistDF.select(\"artistID\").describe().show()"
      ],
      "metadata": {
        "colab": {
          "base_uri": "https://localhost:8080/"
        },
        "id": "pqXJSSjIBoE3",
        "outputId": "fc7b1c39-e2ad-4916-b1a8-13acdbab4abc"
      },
      "execution_count": 9,
      "outputs": [
        {
          "output_type": "stream",
          "name": "stdout",
          "text": [
            "Maximum value of artistID:  10794401\n",
            "Minimum value of artistID:  1\n",
            "+-------+------------------+\n",
            "|summary|          artistID|\n",
            "+-------+------------------+\n",
            "|  count|          24296858|\n",
            "|   mean|1718704.0937568964|\n",
            "| stddev|2539389.0924284607|\n",
            "|    min|                 1|\n",
            "|    max|          10794401|\n",
            "+-------+------------------+\n",
            "\n"
          ]
        }
      ]
    },
    {
      "cell_type": "code",
      "source": [
        "# Compute user activity\n",
        "# We are interested in how many playcounts each user has scored.\n",
        "userActivity = userArtistDF.groupBy('userID').sum('playCount').collect()\n",
        "print(userActivity[0:5])\n",
        "len(userActivity)"
      ],
      "metadata": {
        "colab": {
          "base_uri": "https://localhost:8080/"
        },
        "id": "2SJIfsqKCRAo",
        "outputId": "38dae739-8d0c-41c3-9d6f-8c79f710cb2b"
      },
      "execution_count": 10,
      "outputs": [
        {
          "output_type": "stream",
          "name": "stdout",
          "text": [
            "[Row(userID=1000061, sum(playCount)=244), Row(userID=1000070, sum(playCount)=20200), Row(userID=1000313, sum(playCount)=201), Row(userID=1000832, sum(playCount)=1064), Row(userID=1000905, sum(playCount)=214)]\n"
          ]
        },
        {
          "output_type": "execute_result",
          "data": {
            "text/plain": [
              "148111"
            ]
          },
          "metadata": {},
          "execution_count": 10
        }
      ]
    },
    {
      "cell_type": "code",
      "source": [
        "pdf = pd.DataFrame(data=userActivity)\n",
        "Y=np.sort( pdf[1] )\n",
        "yvals=np.arange(len(Y))/float(len(Y))\n",
        "\n",
        "print(np.arange(len(Y)))\n",
        "\n",
        "plt.semilogx( Y, yvals )\n",
        "plt.xlabel('Play Counts')\n",
        "plt.ylabel('ECDF')\n",
        "plt.grid(True,which=\"both\",ls=\"-\")\n",
        "plt.title('ECDF of number of play counts per User ID')\n",
        "plt.show()\n",
        "\n",
        "#Morever, I would like to show some statistical measurements of userAcitvity\n",
        "print ('Total =', Y.sum())\n",
        "print ('Mean =', Y.mean())\n",
        "print ('Min =', Y.min())\n",
        "print ('Max =', Y.max())\n",
        "\n",
        "# look at important percentiles (25%, median, 75%, tails such as >90%)\n",
        "print('Percentile 25% :' + str(np.percentile(Y,25)))\n",
        "print('Percentile 50% :' + str(np.percentile(Y,50)))\n",
        "print('Percentile 75% :' + str(np.percentile(Y,75)))\n",
        "print('Percentile 90% :' + str(np.percentile(Y,90)))\n",
        "print('Percentile 95% :' + str(np.percentile(Y,95)))\n",
        "print('Percentile 99% :' + str(np.percentile(Y,99)))\n",
        "\n",
        "# look at the percentile has playCount less than 10\n",
        "print('The percentage of user playing less than 10 times P(Y<=10) =', len(Y[Y<=10])/len(Y))"
      ],
      "metadata": {
        "colab": {
          "base_uri": "https://localhost:8080/",
          "height": 697
        },
        "id": "pvKIkvLTCWs6",
        "outputId": "4c78a0b6-341d-402d-ec09-257a5cce2aab"
      },
      "execution_count": 11,
      "outputs": [
        {
          "output_type": "stream",
          "name": "stdout",
          "text": [
            "[     0      1      2 ... 148108 148109 148110]\n"
          ]
        },
        {
          "output_type": "display_data",
          "data": {
            "text/plain": [
              "<Figure size 640x480 with 1 Axes>"
            ],
            "image/png": "[encoded data removed]"
          },
          "metadata": {}
        },
        {
          "output_type": "stream",
          "name": "stdout",
          "text": [
            "Total = 371638969\n",
            "Mean = 2509.1922206993404\n",
            "Min = 1\n",
            "Max = 674412\n",
            "Percentile 25% :204.0\n",
            "Percentile 50% :892.0\n",
            "Percentile 75% :2800.0\n",
            "Percentile 90% :6484.0\n",
            "Percentile 95% :10120.0\n",
            "Percentile 99% :21569.199999999953\n",
            "The percentage of user playing less than 10 times P(Y<=10) = 0.05228511049145573\n"
          ]
        }
      ]
    },
    {
      "cell_type": "code",
      "source": [
        "# Compute artist popularity\n",
        "# We are interested in how many playcounts per artist\n",
        "# ATTENTION! Grouping by artistID may be problematic, as stated above.\n",
        "\n",
        "artistPopularity = userArtistDF.groupBy('artistID').sum('playCount').collect()\n",
        "print(artistPopularity[0:5]) #print first 5 artistID in dataframe\n",
        "len(artistPopularity)"
      ],
      "metadata": {
        "colab": {
          "base_uri": "https://localhost:8080/"
        },
        "id": "ucXSoLXGCi_u",
        "outputId": "30ca7046-525f-4db8-b036-74578b20955e"
      },
      "execution_count": 12,
      "outputs": [
        {
          "output_type": "stream",
          "name": "stdout",
          "text": [
            "[Row(artistID=1003514, sum(playCount)=949), Row(artistID=1004346, sum(playCount)=3772), Row(artistID=5409, sum(playCount)=526693), Row(artistID=1002519, sum(playCount)=405), Row(artistID=1004223, sum(playCount)=409)]\n"
          ]
        },
        {
          "output_type": "execute_result",
          "data": {
            "text/plain": [
              "1631028"
            ]
          },
          "metadata": {},
          "execution_count": 12
        }
      ]
    },
    {
      "cell_type": "code",
      "source": [
        "pdf1 = pd.DataFrame(data=artistPopularity)\n",
        "Y1=np.sort( pdf1[1] )\n",
        "yvals1=np.arange(len(Y1))/float(len(Y1))\n",
        "\n",
        "print(np.arange(len(Y1)))\n",
        "\n",
        "plt.semilogx( Y1, yvals1 )\n",
        "plt.xlabel('Play Counts')\n",
        "plt.ylabel('ECDF')\n",
        "plt.grid(True,which=\"both\",ls=\"-\")\n",
        "plt.title('ECDF of number of play counts per artist ID')\n",
        "plt.show()\n",
        "\n",
        "\n",
        "\n",
        "#\n",
        "print ('Sum =', Y1.sum())\n",
        "print ('Mean =', Y1.mean())\n",
        "print ('Min =', Y1.min())\n",
        "print ('Max =', Y1.max())\n",
        "print ('Top 5 play counts:', Y1[len(Y1)-5:len(Y1)])\n",
        "print ('Sum top 5 artist play counts:', Y1[len(Y1)-5:len(Y1)].sum())\n",
        "print ('Percentage of top 5 artist play counts:', Y1[len(Y1)-5:len(Y1)].sum()/Y1.sum())\n",
        "print ('P(playCount<=10) =', len(Y1[Y1<=10])/len(Y1))\n",
        "print ('P(playCount<=1000) =', len(Y1[Y1<=1000])/len(Y1))"
      ],
      "metadata": {
        "colab": {
          "base_uri": "https://localhost:8080/",
          "height": 661
        },
        "id": "SrkeU9XpDLQc",
        "outputId": "8c8f4a1d-e38a-4b32-a4e9-6b24b0e41e9f"
      },
      "execution_count": 13,
      "outputs": [
        {
          "output_type": "stream",
          "name": "stdout",
          "text": [
            "[      0       1       2 ... 1631025 1631026 1631027]\n"
          ]
        },
        {
          "output_type": "display_data",
          "data": {
            "text/plain": [
              "<Figure size 640x480 with 1 Axes>"
            ],
            "image/png": "[encoded data removed]"
          },
          "metadata": {}
        },
        {
          "output_type": "stream",
          "name": "stdout",
          "text": [
            "Sum = 371638969\n",
            "Mean = 227.85566464830768\n",
            "Min = 1\n",
            "Max = 2502130\n",
            "Top 5 play counts: [1425942 1542806 1930592 2259185 2502130]\n",
            "Sum top 5 artist play counts: 9660655\n",
            "Percentage of top 5 artist play counts: 0.025994730923925256\n",
            "P(playCount<=10) = 0.7486793605014751\n",
            "P(playCount<=1000) = 0.987435531456235\n"
          ]
        }
      ]
    },
    {
      "cell_type": "code",
      "source": [
        "sortedArtist = sorted(artistPopularity, key = lambda x: -x[1])[:5]\n",
        "\n",
        "artistID = [w[0] for w in sortedArtist]\n",
        "\n",
        "y_pos = range(len(sortedArtist))\n",
        "frequency = [w[1] for w in sortedArtist]\n",
        "\n",
        "plt.barh(y_pos, frequency[::-1], align='center', alpha=0.4)\n",
        "plt.yticks(y_pos, artistID[::-1])\n",
        "plt.xlabel('Play Count')\n",
        "plt.ylabel('Artist')\n",
        "plt.title('Top-5 Artist ID per play counts')\n",
        "plt.show()"
      ],
      "metadata": {
        "colab": {
          "base_uri": "https://localhost:8080/",
          "height": 472
        },
        "id": "rvUFZBzNDYx-",
        "outputId": "23395074-d71c-41df-9d80-6687cd509063"
      },
      "execution_count": 14,
      "outputs": [
        {
          "output_type": "display_data",
          "data": {
            "text/plain": [
              "<Figure size 640x480 with 1 Axes>"
            ],
            "image/png": "[encoded data removed]"
          },
          "metadata": {}
        }
      ]
    },
    {
      "cell_type": "code",
      "source": [
        "customSchemaArtist = StructType([ \\\n",
        "    StructField(\"artistID\", LongType(), True), \\\n",
        "    StructField(\"name\", StringType(), True)])\n",
        "\n",
        "artistDF = sqlContext.read \\\n",
        "    .format('com.databricks.spark.csv') \\\n",
        "    .options(header='false', delimiter='\\t', mode='DROPMALFORMED') \\\n",
        "    .load(base + \"artist_data.txt\", schema = customSchemaArtist) \\\n",
        "    .cache()\n",
        "artistDF.show(5)"
      ],
      "metadata": {
        "colab": {
          "base_uri": "https://localhost:8080/"
        },
        "id": "tvVxkgjdDvKC",
        "outputId": "cedcc563-3cda-4470-da37-7fd7b9600bab"
      },
      "execution_count": 15,
      "outputs": [
        {
          "output_type": "stream",
          "name": "stdout",
          "text": [
            "+--------+--------------------+\n",
            "|artistID|                name|\n",
            "+--------+--------------------+\n",
            "| 1134999|        06Crazy Life|\n",
            "| 6821360|        Pang Nakarin|\n",
            "|10113088|Terfel, Bartoli- ...|\n",
            "|10151459| The Flaming Sidebur|\n",
            "| 6826647|   Bodenstandig 3000|\n",
            "+--------+--------------------+\n",
            "only showing top 5 rows\n",
            "\n"
          ]
        }
      ]
    },
    {
      "cell_type": "code",
      "source": [
        "# get artists whose name contains \"Aerosmith\"\n",
        "artistDF[locate(\"Aerosmith\", artistDF.name) > 0].show(20, False)\n",
        "\n",
        "# show two examples\n",
        "artistDF[artistDF.artistID==1000010].show()\n",
        "artistDF[artistDF.artistID==2082323].show()"
      ],
      "metadata": {
        "colab": {
          "base_uri": "https://localhost:8080/"
        },
        "id": "N_wrqdpND0Dn",
        "outputId": "878f037e-ab6a-418f-888e-22f1b0c75dd8"
      },
      "execution_count": 16,
      "outputs": [
        {
          "output_type": "stream",
          "name": "stdout",
          "text": [
            "+--------+----------------------------------------------+\n",
            "|artistID|name                                          |\n",
            "+--------+----------------------------------------------+\n",
            "|10586006|Dusty Springfield/Aerosmith                   |\n",
            "|6946007 |Aerosmith/RunDMC                              |\n",
            "|10475683|Aerosmith: Just Push Play                     |\n",
            "|1083031 |Aerosmith/ G n R                              |\n",
            "|6872848 |Britney, Nsync, Nelly, Aerosmith,Mary J Blige.|\n",
            "|10586963|Green Day - Oasis - Eminem - Aerosmith        |\n",
            "|10028830|The Aerosmith Antology2                       |\n",
            "|10300357|Run-DMC + Aerosmith                           |\n",
            "|2027746 |Aerosmith by MusicInter.com                   |\n",
            "|1140418 |[rap]Run DMC and Aerosmith                    |\n",
            "|10237208|Aerosmith + Run DMC                           |\n",
            "|10588537|Aerosmith, Kid Rock, & Run DMC                |\n",
            "|9934757 |Aerosmith - Big Ones                          |\n",
            "|10437510|Green Day ft. Oasis & Aerosmith               |\n",
            "|6936680 |RUN DNC & Aerosmith                           |\n",
            "|10479781|Aerosmith Hits                                |\n",
            "|10114147|Charlies Angels - Aerosmith                   |\n",
            "|1262439 |Kid Rock, Run DMC & Aerosmith                 |\n",
            "|7032554 |Aerosmith & Run-D.M.C.                        |\n",
            "|10033592|Aerosmith?                                    |\n",
            "+--------+----------------------------------------------+\n",
            "only showing top 20 rows\n",
            "\n",
            "+--------+---------+\n",
            "|artistID|     name|\n",
            "+--------+---------+\n",
            "| 1000010|Aerosmith|\n",
            "+--------+---------+\n",
            "\n",
            "+--------+------------+\n",
            "|artistID|        name|\n",
            "+--------+------------+\n",
            "| 2082323|01 Aerosmith|\n",
            "+--------+------------+\n",
            "\n"
          ]
        }
      ]
    },
    {
      "cell_type": "code",
      "source": [
        "customSchemaArtistAlias = StructType([ \\\n",
        "    StructField(\"mispelledID\", LongType(), True), \\\n",
        "    StructField(\"standardID\", LongType(), True)])\n",
        "\n",
        "artistAliasDF = sqlContext.read \\\n",
        "    .format('com.databricks.spark.csv') \\\n",
        "    .options(header='false', delimiter='\\t', mode='DROPMALFORMED') \\\n",
        "    .load(base + \"artist_alias.txt\", schema = customSchemaArtistAlias) \\\n",
        "    .cache()\n",
        "\n",
        "artistAliasDF.show(5)"
      ],
      "metadata": {
        "colab": {
          "base_uri": "https://localhost:8080/"
        },
        "id": "kl_LpUziD-0k",
        "outputId": "8ed3901a-206e-47c5-929c-f968b9723d96"
      },
      "execution_count": 17,
      "outputs": [
        {
          "output_type": "stream",
          "name": "stdout",
          "text": [
            "+-----------+----------+\n",
            "|mispelledID|standardID|\n",
            "+-----------+----------+\n",
            "|    1092764|   1000311|\n",
            "|    1095122|   1000557|\n",
            "|    6708070|   1007267|\n",
            "|   10088054|   1042317|\n",
            "|    1195917|   1042317|\n",
            "+-----------+----------+\n",
            "only showing top 5 rows\n",
            "\n"
          ]
        }
      ]
    },
    {
      "cell_type": "code",
      "source": [
        "artistAliasDF[artistAliasDF.mispelledID == \"1000010\" ].show()\n",
        "artistAliasDF[artistAliasDF.mispelledID == \"2082323\" ].show()"
      ],
      "metadata": {
        "colab": {
          "base_uri": "https://localhost:8080/"
        },
        "id": "aA-czte3EHDF",
        "outputId": "f60cac75-4a13-41ab-d621-24350a9cf72e"
      },
      "execution_count": 18,
      "outputs": [
        {
          "output_type": "stream",
          "name": "stdout",
          "text": [
            "+-----------+----------+\n",
            "|mispelledID|standardID|\n",
            "+-----------+----------+\n",
            "+-----------+----------+\n",
            "\n",
            "+-----------+----------+\n",
            "|mispelledID|standardID|\n",
            "+-----------+----------+\n",
            "|    2082323|   1000010|\n",
            "+-----------+----------+\n",
            "\n"
          ]
        }
      ]
    },
    {
      "cell_type": "code",
      "source": [
        "artistAlias = artistAliasDF.rdd.map(lambda row: (row.mispelledID,row.standardID)).collectAsMap()\n",
        "\n",
        "#checking the total number of standard artistID\n",
        "len(artistAlias)"
      ],
      "metadata": {
        "colab": {
          "base_uri": "https://localhost:8080/"
        },
        "id": "aVOFwW9mEUGo",
        "outputId": "f8a63961-0334-4ac6-95a8-a76a6fc0fe66"
      },
      "execution_count": 19,
      "outputs": [
        {
          "output_type": "execute_result",
          "data": {
            "text/plain": [
              "190893"
            ]
          },
          "metadata": {},
          "execution_count": 19
        }
      ]
    },
    {
      "cell_type": "code",
      "source": [
        "from time import time\n",
        "\n",
        "bArtistAlias = sc.broadcast(artistAlias)\n",
        "\n",
        "def replaceMispelledIDs(fields):\n",
        "    finalID = bArtistAlias.value.get(fields[1] ,fields[1])\n",
        "    return (fields[0], finalID, fields[2])\n",
        "\n",
        "t0 = time()\n",
        "\n",
        "newUserArtistDF = sqlContext.createDataFrame(\n",
        "    userArtistDF.rdd.map(replaceMispelledIDs),\n",
        "    userArtistDataSchema\n",
        ")\n",
        "newUserArtistDF.show(5)\n",
        "t1 = time()\n",
        "\n",
        "print('The script takes %f seconds' %(t1-t0))\n",
        "newUserArtistDF = newUserArtistDF.cache()"
      ],
      "metadata": {
        "colab": {
          "base_uri": "https://localhost:8080/"
        },
        "id": "uTy74e5pEa-X",
        "outputId": "1aa95ab8-0afa-4d0c-d973-8f3283040314"
      },
      "execution_count": 20,
      "outputs": [
        {
          "output_type": "stream",
          "name": "stdout",
          "text": [
            "+-------+--------+---------+\n",
            "| userID|artistID|playCount|\n",
            "+-------+--------+---------+\n",
            "|1000002|       1|       55|\n",
            "|1000002| 1000006|       33|\n",
            "|1000002| 1000007|        8|\n",
            "|1000002| 1000009|      144|\n",
            "|1000002| 1000010|      314|\n",
            "+-------+--------+---------+\n",
            "only showing top 5 rows\n",
            "\n",
            "The script takes 0.862698 seconds\n"
          ]
        }
      ]
    },
    {
      "cell_type": "code",
      "source": [
        "uniqueArtists = newUserArtistDF.select('artistID').distinct().count()\n",
        "\n",
        "print(\"Total no. of artists: \", uniqueArtists[0:100])"
      ],
      "metadata": {
        "id": "Tg0F4PpEEf6e"
      },
      "execution_count": 1,
      "outputs": []
    },
    {
      "cell_type": "code",
      "source": [
        "top10ArtistsPC = newUserArtistDF.groupBy('artistID').sum('playCount').orderBy('sum(playCount)', ascending=0).take(10)\n",
        "\n",
        "y_pos = list(range(len(top10ArtistsPC)))\n",
        "pdf = pd.DataFrame(data=top10ArtistsPC)\n",
        "\n",
        "plt.barh(y_pos, pdf[1][::-1], align='center', alpha=0.4)\n",
        "plt.yticks(y_pos, pdf[0][::-1])\n",
        "plt.xlabel('Play Count')\n",
        "plt.ylabel('Artist')\n",
        "plt.title('Top-10 Artist ID per play counts')\n",
        "plt.show()"
      ],
      "metadata": {
        "id": "HqC1UIW0t6b_"
      },
      "execution_count": 1,
      "outputs": []
    },
    {
      "cell_type": "code",
      "source": [],
      "metadata": {
        "id": "T3DwB8b80bIK"
      },
      "execution_count": null,
      "outputs": []
    },
    {
      "cell_type": "code",
      "source": [
        "top10UsersByPlayCount = newUserArtistDF.groupBy(\"userID\").sum('playCount').orderBy('sum(playCount)', ascending=0).take(10)\n",
        "\n",
        "y_pos = list(range(len(top10UsersByPlayCount)))\n",
        "pdf = pd.DataFrame(data=top10UsersByPlayCount)\n",
        "\n",
        "plt.barh(y_pos, pdf[1][::-1], align='center', alpha=0.4)\n",
        "plt.yticks(y_pos, pdf[0][::-1])\n",
        "plt.xlabel('Play Count')\n",
        "plt.ylabel('User')\n",
        "plt.title('Top-10 Users ID per play counts')\n",
        "plt.show()"
      ],
      "metadata": {
        "id": "3u3_hc15yKBt"
      },
      "execution_count": null,
      "outputs": []
    },
    {
      "cell_type": "code",
      "source": [
        "top10UsersByCuriosity = (newUserArtistDF.dropDuplicates(['userID', 'artistID'])\n",
        "                             .groupBy(\"userID\")\n",
        "                             .count()\n",
        "                             .orderBy('count', ascending=0)\n",
        "                             .take(10)\n",
        "                         )\n",
        "\n",
        "#print(top10UsersByCuriosity)\n",
        "y_pos = range(len(top10UsersByCuriosity))\n",
        "\n",
        "pdf = pd.DataFrame(data=top10UsersByCuriosity)\n",
        "\n",
        "plt.barh(y_pos, pdf[1][::-1], align='center', alpha=0.4)\n",
        "plt.yticks(y_pos, pdf[0][::-1])\n",
        "plt.xlabel('Number of played artists')\n",
        "plt.ylabel('User')\n",
        "plt.title('Top-10 Users ID per Curiosity')\n",
        "plt.show"
      ],
      "metadata": {
        "id": "5o04NCzkyMiQ"
      },
      "execution_count": null,
      "outputs": []
    },
    {
      "cell_type": "code",
      "source": [
        "rawArtistAlias = sc.textFile(base + \"artist_alias.txt\")\n",
        "\n",
        "def xtractFields(s):\n",
        "    # Using white space or tab character as separetors,\n",
        "    # split a line into list of strings\n",
        "    line = re.split(\"\\s|\\t\",s,1)\n",
        "    # if this line has at least 2 characters\n",
        "    if (len(line) > 1):\n",
        "        try:\n",
        "            # try to parse the first and the second components to integer type\n",
        "            return (int(line[0]), int(line[1]))\n",
        "        except ValueError:\n",
        "            # if parsing has any error, return a special tuple\n",
        "            return (-1,-1)\n",
        "    else:\n",
        "        # if this line has less than 2 characters, return a special tuple\n",
        "        return (-1,-1)\n",
        "\n",
        "artistAlias = (\n",
        "                rawArtistAlias\n",
        "                    # extract fields using function xtractFields\n",
        "                    .map( lambda x: xtractFields(x))\n",
        "\n",
        "                    # fileter out the special tuples\n",
        "                    .filter( lambda x: x != (-1,-1) )\n",
        "                    # collect result to the driver as a \"dictionary\"\n",
        "                    .collectAsMap()\n",
        "                )"
      ],
      "metadata": {
        "id": "tw3q4-M3yO3T"
      },
      "execution_count": null,
      "outputs": []
    },
    {
      "cell_type": "code",
      "source": [
        "bArtistAlias = sc.broadcast(artistAlias)\n",
        "rawUserArtistData = sc.textFile(base + \"user_artist_data.txt\")\n",
        "\n",
        "def disambiguate(line):\n",
        "    [userID, artistID, count] = line.split(' ')\n",
        "    finalArtistID = bArtistAlias.value.get(artistID,artistID)\n",
        "    return (userID, finalArtistID,count)\n",
        "\n",
        "\n",
        "userArtistDataRDD = rawUserArtistData.map(disambiguate)\n",
        "userArtistDataRDD.take(5)"
      ],
      "metadata": {
        "id": "OKUhjz0ZyTRF"
      },
      "execution_count": null,
      "outputs": []
    },
    {
      "cell_type": "code",
      "source": [
        "from pyspark.mllib.recommendation import ALS, MatrixFactorizationModel, Rating"
      ],
      "metadata": {
        "id": "efZpkRg8yVZQ"
      },
      "execution_count": null,
      "outputs": []
    },
    {
      "cell_type": "code",
      "source": [
        "allData = userArtistDataRDD.map(lambda r: Rating( float(r[0]),float(r[1]),int(r[2]))) \\\n",
        "                                            .repartition(12).cache()\n",
        "allData.take(5)"
      ],
      "metadata": {
        "id": "FdrSr8adyXgE"
      },
      "execution_count": null,
      "outputs": []
    },
    {
      "cell_type": "code",
      "source": [
        "rank=10\n",
        "iterations=5\n",
        "lambda_=0.01\n",
        "alpha=1.0\n",
        "\n",
        "#training\n",
        "t0 = time()\n",
        "model = ALS.trainImplicit(allData, rank)\n",
        "t1 = time()\n",
        "print(\"finish training model in %f secs\" % (t1 - t0))"
      ],
      "metadata": {
        "id": "BSjg20GjybPN"
      },
      "execution_count": null,
      "outputs": []
    },
    {
      "cell_type": "code",
      "source": [
        "model.save(sc,'music_rec_model.spark')\n",
        "print('Save new model')"
      ],
      "metadata": {
        "id": "1PolbWinyeOK"
      },
      "execution_count": null,
      "outputs": []
    },
    {
      "cell_type": "code",
      "source": [
        "t0 = time()\n",
        "model = MatrixFactorizationModel.load(sc, 'music_rec_model.spark')\n",
        "t1 = time()\n",
        "print(\"finish loading model in %f secs\" % (t1 - t0))"
      ],
      "metadata": {
        "id": "-jdHQR82ygIc"
      },
      "execution_count": null,
      "outputs": []
    },
    {
      "cell_type": "code",
      "source": [
        "model.userFeatures().first()"
      ],
      "metadata": {
        "id": "g8XOye1eyhyn"
      },
      "execution_count": null,
      "outputs": []
    },
    {
      "cell_type": "code",
      "source": [
        "recommendations = (model.recommendProducts(2093760,5))\n",
        "print(recommendations)\n",
        "# construct set of recommendated artists\n",
        "recArtist = set(rating[1] for rating in recommendations)\n",
        "recArtist"
      ],
      "metadata": {
        "id": "pBAJwkDxyj0z"
      },
      "execution_count": null,
      "outputs": []
    },
    {
      "cell_type": "code",
      "source": [
        "rawArtistData = sc.textFile(base + \"artist_data.txt\")\n",
        "\n",
        "def xtractFields(s):\n",
        "    line = re.split(\"\\s|\\t\",s,1)\n",
        "    if (len(line) > 1):\n",
        "        try:\n",
        "            return (int(line[0]), str(line[1].strip()))\n",
        "        except ValueError:\n",
        "            return (-1,\"\")\n",
        "    else:\n",
        "        return (-1,\"\")"
      ],
      "metadata": {
        "id": "PNiASjc6ylvM"
      },
      "execution_count": null,
      "outputs": []
    },
    {
      "cell_type": "code",
      "source": [
        "def artistNames(line):\n",
        "#     [artistID, name]\n",
        "    if (line[0] in recArtist):\n",
        "        return True\n",
        "    else:\n",
        "        return False\n",
        "\n",
        "recList = artistByID.filter(artistNames).values().collect()\n",
        "\n",
        "print(recList)"
      ],
      "metadata": {
        "id": "BXpKjnlkyo_g"
      },
      "execution_count": null,
      "outputs": []
    },
    {
      "cell_type": "code",
      "source": [
        "def unpersist(model):\n",
        "    model.userFeatures().unpersist()\n",
        "    model.productFeatures().unpersist()\n",
        "\n",
        "# uncache data and model when they are no longer used\n",
        "unpersist(model)"
      ],
      "metadata": {
        "id": "Tw5iwYHQyrlq"
      },
      "execution_count": null,
      "outputs": []
    },
    {
      "cell_type": "code",
      "source": [
        "trainData, cvData = allData.randomSplit([0.7,0.3],1)\n",
        "trainData.cache()\n",
        "cvData.cache()"
      ],
      "metadata": {
        "id": "s5I8oqf-yxh_"
      },
      "execution_count": null,
      "outputs": []
    },
    {
      "cell_type": "code",
      "source": [
        "t0 = time()\n",
        "model = ALS.trainImplicit(ratings=trainData,rank=rank,iterations=iterations,lambda_=lambda_ ,alpha=alpha)\n",
        "t1 = time()\n",
        "print(\"finish training model in %f secs\" % (t1 - t0))"
      ],
      "metadata": {
        "id": "Alk6dYLFyzav"
      },
      "execution_count": null,
      "outputs": []
    },
    {
      "cell_type": "code",
      "source": [
        "allItemIDs = np.array(allData.map(lambda x: x[1]).distinct().collect())\n",
        "bAllItemIDs = sc.broadcast(allItemIDs)"
      ],
      "metadata": {
        "id": "8za5eRwDy2BU"
      },
      "execution_count": null,
      "outputs": []
    },
    {
      "cell_type": "code",
      "source": [
        "from random import randint\n",
        "def xtractNegative(userIDAndPosItemIDs):\n",
        "    def pickEnoughNegatives(line):\n",
        "        userID = line[0]\n",
        "        posItemIDSet = set(line[1])\n",
        "        #posItemIDSet = line[1]\n",
        "        negative = []\n",
        "        allItemIDs = bAllItemIDs.value\n",
        "        # Keep about as many negative examples per user as positive. Duplicates are OK.\n",
        "        i = 0\n",
        "        while (i < len(allItemIDs) and len(negative) < len(posItemIDSet)):\n",
        "            itemID = allItemIDs[randint(0,len(allItemIDs)-1)]\n",
        "            if itemID not in posItemIDSet:\n",
        "                negative.append(itemID)\n",
        "            i += 1\n",
        "\n",
        "        # Result is a collection of (user,negative-item) tuples\n",
        "        return map(lambda itemID: (userID, itemID), negative)\n",
        "\n",
        "    # Init an RNG and the item IDs set once for partition\n",
        "    # allItemIDs = bAllItemIDs.value\n",
        "    return map(pickEnoughNegatives, userIDAndPosItemIDs)\n"
      ],
      "metadata": {
        "id": "8aE6wYygy5vc"
      },
      "execution_count": null,
      "outputs": []
    },
    {
      "cell_type": "code",
      "source": [
        "def ratioOfCorrectRanks(positiveRatings, negativeRatings):\n",
        "\n",
        "    # find number elements in arr that has index >= start and has value smaller than x\n",
        "    # arr is a sorted array\n",
        "    def findNumElementsSmallerThan(arr, x, start=0):\n",
        "        left = start\n",
        "        right = len(arr) -1\n",
        "        # if x is bigger than the biggest element in arr\n",
        "        if start > right or x > arr[right]:\n",
        "            return right + 1\n",
        "        mid = -1\n",
        "        while left <= right:\n",
        "            mid = (left + right) // 2\n",
        "            if arr[mid] < x:\n",
        "                left = mid + 1\n",
        "            elif arr[mid] > x:\n",
        "                right = mid - 1\n",
        "            else:\n",
        "                while mid-1 >= start and arr[mid-1] == x:\n",
        "                    mid -= 1\n",
        "                return mid\n",
        "        return mid if arr[mid] > x else mid + 1\n",
        "  correct = 0 ## L\n",
        "  total = 0 ## L\n",
        "  negativeRatings = list(map(lambda x:x.rating, negativeRatings))\n",
        "\n",
        "    #np.sort(positiveRatings)\n",
        "    negativeRatings.sort()# = np.sort(negativeRatings)\n",
        "    total = len(positiveRatings)*len(negativeRatings)\n",
        "\n",
        "    for positive in positiveRatings:\n",
        "        # Count the correctly-ranked pairs\n",
        "        correct += findNumElementsSmallerThan(negativeRatings, positive.rating)\n",
        "\n",
        "    ## Return AUC: fraction of pairs ranked correctly\n",
        "    return float(correct) / total\n",
        "\n",
        "def calculateAUC(positiveData, bAllItemIDs, predictFunction):\n",
        "    # Take held-out data as the \"positive\", and map to tuples\n",
        "    positiveUserProducts = positiveData.map(lambda r: (r[0], r[1]))\n",
        "    # Make predictions for each of them, including a numeric score, and gather by user\n",
        "    positivePredictions = predictFunction(positiveUserProducts).groupBy(lambda r: r.user)\n",
        "\n",
        "    # Create a set of \"negative\" products for each user. These are randomly chosen\n",
        "    # from among all of the other items, excluding those that are \"positive\" for the user.\n",
        "    negativeUserProducts = positiveUserProducts.groupByKey().mapPartitions(xtractNegative).flatMap(lambda x: x)\n",
        "    # Make predictions on the rest\n",
        "    negativePredictions = predictFunction(negativeUserProducts).groupBy(lambda r: r.user)\n",
        "\n",
        "    return (\n",
        "            positivePredictions.join(negativePredictions)\n",
        "                .values()\n",
        "                .map(\n",
        "                    lambda positive_negativeRatings: ratioOfCorrectRanks(positive_negativeRatings[0], positive_negativeRatings[1])\n",
        "                )\n",
        "                .mean()\n",
        "            )"
      ],
      "metadata": {
        "id": "mjKk40Any8Yx"
      },
      "execution_count": null,
      "outputs": []
    },
    {
      "cell_type": "code",
      "source": [
        "t0 = time()\n",
        "auc = calculateAUC( cvData,bAllItemIDs, model.predictAll)\n",
        "t1 = time()\n",
        "print(\"auc=\",auc)\n",
        "print(\"finish in %f seconds\" % (t1 - t0))"
      ],
      "metadata": {
        "id": "OzcUBaeAzHbh"
      },
      "execution_count": null,
      "outputs": []
    },
    {
      "cell_type": "code",
      "source": [
        "bListenCount = sc.broadcast(trainData.map(lambda r: (r[1], r[2])).reduceByKey(lambda x,y: x+y).collectAsMap())\n",
        "def predictMostListened(allData):\n",
        "    return allData.map(lambda r: Rating(r[0], r[1], bListenCount.value.get( r[1], 0.0)))\n",
        "auc = calculateAUC(cvData,bListenCount, predictMostListened)\n",
        "print(\"AUC score:\" + str(auc))"
      ],
      "metadata": {
        "id": "aQRjlo9BzVBR"
      },
      "execution_count": null,
      "outputs": []
    },
    {
      "cell_type": "code",
      "source": [
        "evaluations = []\n",
        "\n",
        "for rank in [10, 50]:\n",
        "    for lambda_ in [1.0, 0.0001]:\n",
        "        for alpha in [1.0, 40.0]:\n",
        "            print(\"Train model with rank=%d lambda_=%f alpha=%f\" % (rank, lambda_, alpha))\n",
        "            # with each combination of params, we should run multiple times and get avg\n",
        "            # for simple, we only run one time.\n",
        "            model = ALS.trainImplicit(ratings=trainData,rank=rank,iterations=5,lambda_=lambda_ ,alpha=alpha)\n",
        "            auc = calculateAUC(cvData,bListenCount,model.predictAll)\n",
        "\n",
        "            evaluations.append(((rank, lambda_, alpha), auc))\n",
        "\n",
        "            unpersist(model)\n",
        "\n",
        "evaluations.sort(key = lambda x: -x[1])\n",
        "evalDataFrame = pd.DataFrame(data=evaluations)\n",
        "print(evalDataFrame)\n",
        "\n",
        "trainData.unpersist()\n",
        "cvData.unpersist()"
      ],
      "metadata": {
        "id": "92xin_XhzW-9"
      },
      "execution_count": null,
      "outputs": []
    },
    {
      "cell_type": "code",
      "source": [
        "model = ALS.trainImplicit(ratings=trainData, rank=10, iterations=5, lambda_=1.0, alpha=40.0)\n",
        "allData.unpersist()\n",
        "\n",
        "userID = 2093760\n",
        "recommendations = model.recommendProducts(userID,5)\n",
        "\n",
        "recArtist = set(rating[1] for rating in recommendations)\n",
        "\n",
        "# Filter in those artists, get just artist, and print\n",
        "def artistNames(line):\n",
        "#     [artistID, name]\n",
        "    if (line[0] in recArtist):\n",
        "        return True\n",
        "    else:\n",
        "        return False\n",
        "\n",
        "recList = artistByID.filter(artistNames).values().collect()\n",
        "print(recList)\n",
        "\n",
        "unpersist(model)"
      ],
      "metadata": {
        "id": "NA0_H-fhzcPM"
      },
      "execution_count": null,
      "outputs": []
    },
    {
      "cell_type": "code",
      "source": [
        "trainData, cvData = allData.randomSplit([0.5,0.5],1)\n",
        "trainData.cache()\n",
        "cvData.cache()\n",
        "\n",
        "t0 = time()\n",
        "model = ALS.trainImplicit(ratings=trainData,rank=rank,iterations=iterations,lambda_=lambda_ ,alpha=alpha)\n",
        "t1 = time()\n",
        "print(\"finish training model in %f secs\" % (t1 - t0))\n",
        "\n",
        "t0 = time()\n",
        "auc = calculateAUC( cvData,bAllItemIDs, model.predictAll)\n",
        "t1 = time()\n",
        "print(\"auc=\",auc)\n",
        "print(\"finish in %f seconds\" % (t1 - t0))"
      ],
      "metadata": {
        "id": "DZNqopyozf0J"
      },
      "execution_count": null,
      "outputs": []
    },
    {
      "cell_type": "code",
      "source": [
        "trainData, cvData = allData.randomSplit([0.8,0.2],1)\n",
        "trainData.cache()\n",
        "cvData.cache()\n",
        "\n",
        "t0 = time()\n",
        "model = ALS.trainImplicit(ratings=trainData,rank=rank,iterations=iterations,lambda_=lambda_ ,alpha=alpha)\n",
        "t1 = time()\n",
        "print(\"finish training model in %f secs\" % (t1 - t0))\n",
        "\n",
        "t0 = time()\n",
        "auc = calculateAUC( cvData,bAllItemIDs, model.predictAll)\n",
        "t1 = time()\n",
        "print(\"auc=\",auc)\n",
        "print(\"finish in %f seconds\" % (t1 - t0))"
      ],
      "metadata": {
        "id": "iaXXozgeziEL"
      },
      "execution_count": null,
      "outputs": []
    },
    {
      "cell_type": "code",
      "source": [
        "trainData, cvData = allData.randomSplit([0.9,0.1],1)\n",
        "trainData.cache()\n",
        "cvData.cache()\n",
        "\n",
        "t0 = time()\n",
        "model = ALS.trainImplicit(ratings=trainData,rank=rank,iterations=iterations,lambda_=lambda_ ,alpha=alpha)\n",
        "t1 = time()\n",
        "print(\"finish training model in %f secs\" % (t1 - t0))\n",
        "\n",
        "t0 = time()\n",
        "auc = calculateAUC( cvData,bAllItemIDs, model.predictAll)\n",
        "t1 = time()\n",
        "print(\"auc=\",auc)\n",
        "print(\"finish in %f seconds\" % (t1 - t0))"
      ],
      "metadata": {
        "id": "kwlgn6wIzkHv"
      },
      "execution_count": null,
      "outputs": []
    },
    {
      "cell_type": "code",
      "source": [
        "trainData, cvData = allData.randomSplit([0.99,0.01],1)\n",
        "trainData.cache()\n",
        "cvData.cache()\n",
        "\n",
        "t0 = time()\n",
        "model = ALS.trainImplicit(ratings=trainData,rank=rank,iterations=iterations,lambda_=lambda_ ,alpha=alpha)\n",
        "t1 = time()\n",
        "print(\"finish training model in %f secs\" % (t1 - t0))\n",
        "\n",
        "t0 = time()\n",
        "auc = calculateAUC( cvData,bAllItemIDs, model.predictAll)\n",
        "t1 = time()\n",
        "print(\"auc=\",auc)\n",
        "print(\"finish in %f seconds\" % (t1 - t0))"
      ],
      "metadata": {
        "id": "b7jQG35yzmKo"
      },
      "execution_count": null,
      "outputs": []
    },
    {
      "cell_type": "code",
      "source": [
        "trainData, cvData = allData.randomSplit([0.7,0.3],1)\n",
        "trainData.cache()\n",
        "cvData.cache()"
      ],
      "metadata": {
        "id": "TmJCXWmyzpyJ"
      },
      "execution_count": null,
      "outputs": []
    },
    {
      "cell_type": "code",
      "source": [
        "model50 = ALS.trainImplicit(ratings=trainData, rank=10, iterations=5)\n",
        "trainData.unpersist()\n",
        "\n",
        "userID = 2093760\n",
        "recommendations50 = model50.recommendProducts(userID,50)\n",
        "\n",
        "recArtist = set(rating[1] for rating in recommendations50)\n",
        "\n",
        "recList50 = artistByID.filter(artistNames).values().collect()\n",
        "\n",
        "print(recList50)\n",
        "\n",
        "unpersist(model)"
      ],
      "metadata": {
        "id": "BAlpEiPuzrrw"
      },
      "execution_count": null,
      "outputs": []
    },
    {
      "cell_type": "code",
      "source": [
        "model50_1 = ALS.trainImplicit(ratings=trainData, rank=10, iterations=5, lambda_= 0.0001, alpha= 40.0)\n",
        "trainData.unpersist()\n",
        "\n",
        "userID = 2093760\n",
        "recommendations50_1 = model50_1.recommendProducts(userID,50)\n",
        "\n",
        "recArtist = set(rating[1] for rating in recommendations50_1)\n",
        "\n",
        "recList50_1 = artistByID.filter(artistNames).values().collect()\n",
        "\n",
        "print(recList50_1)\n",
        "\n",
        "unpersist(model)"
      ],
      "metadata": {
        "id": "Yfjh-gSZzuX9"
      },
      "execution_count": null,
      "outputs": []
    },
    {
      "cell_type": "code",
      "source": [
        "temp3 = [item for item in recList50 if item not in recList50_1]\n",
        "print(temp3)\n",
        "print(\"\\n Number of different artists between standard model and model_1:\" + str(len(temp3)))"
      ],
      "metadata": {
        "id": "W70fP7Zwzwpz"
      },
      "execution_count": null,
      "outputs": []
    },
    {
      "cell_type": "code",
      "source": [
        "model50_2 = ALS.trainImplicit(ratings=trainData, rank=10, iterations=5, lambda_= 0.1, alpha= 1.0)\n",
        "trainData.unpersist()\n",
        "\n",
        "userID = 2093760\n",
        "recommendations50_2 = model50_2.recommendProducts(userID,50)\n",
        "\n",
        "recArtist = set(rating[1] for rating in recommendations50_2)\n",
        "\n",
        "recList50_2 = artistByID.filter(artistNames).values().collect()\n",
        "\n",
        "print(recList50_2)\n",
        "\n",
        "unpersist(model)"
      ],
      "metadata": {
        "id": "xtg5Go2czxRg"
      },
      "execution_count": null,
      "outputs": []
    },
    {
      "cell_type": "code",
      "source": [
        "temp4 = [item for item in recList50 if item not in recList50_2]\n",
        "print(temp4)\n",
        "print(\"\\n Number of different artists between standard model and model_2:\" + str(len(temp4)))"
      ],
      "metadata": {
        "id": "-DU0QEpGzzUx"
      },
      "execution_count": null,
      "outputs": []
    },
    {
      "cell_type": "code",
      "source": [],
      "metadata": {
        "id": "CsdHCl2qz1mQ"
      },
      "execution_count": null,
      "outputs": []
    }
  ]
}